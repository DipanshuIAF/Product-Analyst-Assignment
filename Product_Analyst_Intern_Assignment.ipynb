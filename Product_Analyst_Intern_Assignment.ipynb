{
 "cells": [
  {
   "cell_type": "code",
   "execution_count": 1,
   "id": "8e162516-59e1-44d3-b21a-a86f8cabd888",
   "metadata": {},
   "outputs": [],
   "source": [
    "import pandas as pd"
   ]
  },
  {
   "cell_type": "code",
   "execution_count": 2,
   "id": "6a3e0226-0053-42de-a9f2-a872feb62a0e",
   "metadata": {},
   "outputs": [],
   "source": [
    "oms = pd.read_csv(\"oms.csv\")\n",
    "pf = pd.read_csv(\"pf.csv\")"
   ]
  },
  {
   "cell_type": "code",
   "execution_count": 3,
   "id": "d2dbb22b-15c6-4a02-ae94-175a1dab42c2",
   "metadata": {},
   "outputs": [
    {
     "name": "stdout",
     "output_type": "stream",
     "text": [
      "   Unnamed: 0            awbno       getStatus inventory_status  \\\n",
      "0           0   R1010808154AJI  GOOD_INVENTORY         COMPLETE   \n",
      "1           1       5979920051  GOOD_INVENTORY         COMPLETE   \n",
      "2           2     627721482658  GOOD_INVENTORY              NaN   \n",
      "3           3  195042167901922  GOOD_INVENTORY         COMPLETE   \n",
      "4           4  195042167901922  GOOD_INVENTORY         COMPLETE   \n",
      "\n",
      "               orderID               subOrder            date   received_date  \\\n",
      "0           5076519403         1011866143.5-1  01/11/24 00:44  08/11/24 15:05   \n",
      "1                 2865            1.41502E+13  01/11/24 12:13  09/11/24 13:47   \n",
      "2  406-3863912-5131562  406-3863912-5131562-1  01/11/24 12:21  11/11/24 20:36   \n",
      "3           5076181331       S266159169.1-1-0  01/11/24 12:44  08/11/24 18:10   \n",
      "4           5076181331       S266159169.1-1-1  01/11/24 12:44  08/11/24 18:10   \n",
      "\n",
      "             SKU return_courier  warehouse returnType shelf_code  \\\n",
      "0  8905723077969           SELF        NaN     return  R05-05-4H   \n",
      "1  8905723168452         ECOM_1        NaN     return  R05-09-3B   \n",
      "2  8905723129194          ATSIN        NaN     return  R06-05-1A   \n",
      "3  8905723296971           SELF        NaN     return  R05-05-4H   \n",
      "4  8905723297077           SELF        NaN     return  R05-05-4H   \n",
      "\n",
      "       return_status putaway_code putaway_status  \n",
      "0           COMPLETE       PT8478       COMPLETE  \n",
      "1           COMPLETE       PT8517       COMPLETE  \n",
      "2  COURIER_ALLOCATED          NaN            NaN  \n",
      "3           COMPLETE       PT8491       COMPLETE  \n",
      "4           COMPLETE       PT8491       COMPLETE  \n",
      "   Unnamed: 0            awbno     Return status  Return Quantity  \\\n",
      "0           0    R972189457AJI  RETURN_PROCESSED                1   \n",
      "1           1  195042149034376  RETURN_PROCESSED                1   \n",
      "2           2  195042149034376  RETURN_PROCESSED                1   \n",
      "3           3    R960845268AJI  RETURN_PROCESSED                1   \n",
      "4           4    R966944831AJI  RETURN_PROCESSED                1   \n",
      "\n",
      "                           Reason            SKU     orderID            date  \\\n",
      "0               Does_Not_Fit_Well  8905723134259  S262541859  30/09/24 23:28   \n",
      "1  Not_Happy_With_Product_Quality  8905723297022  S262409205  30/09/24 21:59   \n",
      "2  Not_Happy_With_Product_Quality  8905723143558  S262409205  30/09/24 21:59   \n",
      "3      Want_To_Change_Style_Color  8905723309114  S262949936  30/09/24 21:58   \n",
      "4        Does_Not_Look_Good_On_Me  8905723143589  S262726902  30/09/24 21:56   \n",
      "\n",
      "    platform      SKU_child  \n",
      "0  Channel 1  8905723134259  \n",
      "1  Channel 1  8905723297022  \n",
      "2  Channel 1  8905723143558  \n",
      "3  Channel 1  8905723309114  \n",
      "4  Channel 1  8905723143589  \n"
     ]
    }
   ],
   "source": [
    "#print the first five rows of each dataset to check their structure.\n",
    "print(oms.head())\n",
    "print(pf.head())"
   ]
  },
  {
   "cell_type": "code",
   "execution_count": 4,
   "id": "85cb2d59-7915-462e-940b-ba94c9fa422c",
   "metadata": {},
   "outputs": [
    {
     "name": "stdout",
     "output_type": "stream",
     "text": [
      "OMS Columns: ['Unnamed: 0', 'awbno', 'getStatus', 'inventory_status', 'orderID', 'subOrder', 'date', 'received_date', 'SKU', 'return_courier', 'warehouse', 'returnType', 'shelf_code', 'return_status', 'putaway_code', 'putaway_status']\n",
      "PF Columns: ['Unnamed: 0', 'awbno', 'Return status', 'Return Quantity', 'Reason', 'SKU', 'orderID', 'date', 'platform', 'SKU_child']\n"
     ]
    }
   ],
   "source": [
    "#print the column names of both DataFrames.\n",
    "print(\"OMS Columns:\", oms.columns.tolist())\n",
    "print(\"PF Columns:\", pf.columns.tolist())"
   ]
  },
  {
   "cell_type": "code",
   "execution_count": 5,
   "id": "36bae770-e2c7-4750-ae9d-9223645b477f",
   "metadata": {},
   "outputs": [],
   "source": [
    "# str.strip - removes any leading or trailing spaces in column names.\n",
    "#str.lower - converts all column names to lowercase for consistency.\n",
    "oms.columns = oms.columns.str.strip().str.lower()\n",
    "pf.columns = pf.columns.str.strip().str.lower()"
   ]
  },
  {
   "cell_type": "code",
   "execution_count": 6,
   "id": "6014052f-0f4c-410e-a3c7-d7b239361e69",
   "metadata": {},
   "outputs": [
    {
     "name": "stdout",
     "output_type": "stream",
     "text": [
      "OMS Columns: ['unnamed: 0', 'awbno', 'getstatus', 'inventory_status', 'orderid', 'suborder', 'date', 'received_date', 'sku', 'return_courier', 'warehouse', 'returntype', 'shelf_code', 'return_status', 'putaway_code', 'putaway_status']\n",
      "PF Columns: ['unnamed: 0', 'awbno', 'return status', 'return quantity', 'reason', 'sku', 'orderid', 'date', 'platform', 'sku_child']\n"
     ]
    }
   ],
   "source": [
    "#Reprints the column names to confirm changes.\n",
    "print(\"OMS Columns:\", oms.columns.tolist())\n",
    "print(\"PF Columns:\", pf.columns.tolist())"
   ]
  },
  {
   "cell_type": "code",
   "execution_count": 7,
   "id": "b4abfee0-eb57-4d11-becc-d15dcfd0eabc",
   "metadata": {},
   "outputs": [
    {
     "name": "stdout",
     "output_type": "stream",
     "text": [
      "unnamed: 0          int64\n",
      "awbno              object\n",
      "return status      object\n",
      "return quantity     int64\n",
      "reason             object\n",
      "sku                object\n",
      "orderid            object\n",
      "date               object\n",
      "platform           object\n",
      "sku_child          object\n",
      "dtype: object\n",
      "unnamed: 0            int64\n",
      "awbno                object\n",
      "getstatus            object\n",
      "inventory_status     object\n",
      "orderid              object\n",
      "suborder             object\n",
      "date                 object\n",
      "received_date        object\n",
      "sku                   int64\n",
      "return_courier       object\n",
      "warehouse           float64\n",
      "returntype           object\n",
      "shelf_code           object\n",
      "return_status        object\n",
      "putaway_code         object\n",
      "putaway_status       object\n",
      "dtype: object\n"
     ]
    }
   ],
   "source": [
    "print(pf.dtypes)\n",
    "print(oms.dtypes)\n"
   ]
  },
  {
   "cell_type": "code",
   "execution_count": 8,
   "id": "cf8d6f04-8641-437c-a75a-1d0f70f5d540",
   "metadata": {},
   "outputs": [],
   "source": [
    "#Converts sku and awbno columns to strings to ensure compatibility when merging.\n",
    "pf[\"sku\"] = pf[\"sku\"].astype(str)\n",
    "pf[\"awbno\"] = pf[\"awbno\"].astype(str)\n",
    "\n",
    "oms[\"sku\"] = oms[\"sku\"].astype(str)\n",
    "oms[\"awbno\"] = oms[\"awbno\"].astype(str)\n"
   ]
  },
  {
   "cell_type": "code",
   "execution_count": 9,
   "id": "7a97d5e4-d7d1-422f-a85a-e33121f4c5bd",
   "metadata": {},
   "outputs": [
    {
     "name": "stdout",
     "output_type": "stream",
     "text": [
      "unnamed: 0          int64\n",
      "awbno              object\n",
      "return status      object\n",
      "return quantity     int64\n",
      "reason             object\n",
      "sku                object\n",
      "orderid            object\n",
      "date               object\n",
      "platform           object\n",
      "sku_child          object\n",
      "dtype: object\n",
      "unnamed: 0            int64\n",
      "awbno                object\n",
      "getstatus            object\n",
      "inventory_status     object\n",
      "orderid              object\n",
      "suborder             object\n",
      "date                 object\n",
      "received_date        object\n",
      "sku                  object\n",
      "return_courier       object\n",
      "warehouse           float64\n",
      "returntype           object\n",
      "shelf_code           object\n",
      "return_status        object\n",
      "putaway_code         object\n",
      "putaway_status       object\n",
      "dtype: object\n"
     ]
    }
   ],
   "source": [
    "#Prints the updated data types after conversion.\n",
    "print(pf.dtypes)\n",
    "print(oms.dtypes)\n"
   ]
  },
  {
   "cell_type": "code",
   "execution_count": 10,
   "id": "7450e3cd-6c92-4708-9c10-a7219188800a",
   "metadata": {},
   "outputs": [],
   "source": [
    "#Performs a left join on sku and awbno, meaning: All records from pf are kept. Only matching records from oms are included.\n",
    "merged_df = pf.merge(oms, on=[\"sku\", \"awbno\"], how=\"left\")"
   ]
  },
  {
   "cell_type": "code",
   "execution_count": 11,
   "id": "7bd92596-b33e-43d1-9a6b-dcc0724d6602",
   "metadata": {},
   "outputs": [
    {
     "name": "stdout",
     "output_type": "stream",
     "text": [
      "   unnamed: 0            awbno     return status  return quantity  \\\n",
      "0           0    R972189457AJI  RETURN_PROCESSED                1   \n",
      "1           1  195042149034376  RETURN_PROCESSED                1   \n",
      "2           2  195042149034376  RETURN_PROCESSED                1   \n",
      "3           3    R960845268AJI  RETURN_PROCESSED                1   \n",
      "4           4    R966944831AJI  RETURN_PROCESSED                1   \n",
      "\n",
      "                           reason            sku     orderid            date  \\\n",
      "0               Does_Not_Fit_Well  8905723134259  S262541859  30/09/24 23:28   \n",
      "1  Not_Happy_With_Product_Quality  8905723297022  S262409205  30/09/24 21:59   \n",
      "2  Not_Happy_With_Product_Quality  8905723143558  S262409205  30/09/24 21:59   \n",
      "3      Want_To_Change_Style_Color  8905723309114  S262949936  30/09/24 21:58   \n",
      "4        Does_Not_Look_Good_On_Me  8905723143589  S262726902  30/09/24 21:56   \n",
      "\n",
      "    platform      sku_child  \n",
      "0  Channel 1  8905723134259  \n",
      "1  Channel 1  8905723297022  \n",
      "2  Channel 1  8905723143558  \n",
      "3  Channel 1  8905723309114  \n",
      "4  Channel 1  8905723143589  \n",
      "   unnamed: 0            awbno       getstatus inventory_status  \\\n",
      "0           0   R1010808154AJI  GOOD_INVENTORY         COMPLETE   \n",
      "1           1       5979920051  GOOD_INVENTORY         COMPLETE   \n",
      "2           2     627721482658  GOOD_INVENTORY              NaN   \n",
      "3           3  195042167901922  GOOD_INVENTORY         COMPLETE   \n",
      "4           4  195042167901922  GOOD_INVENTORY         COMPLETE   \n",
      "\n",
      "               orderid               suborder            date   received_date  \\\n",
      "0           5076519403         1011866143.5-1  01/11/24 00:44  08/11/24 15:05   \n",
      "1                 2865            1.41502E+13  01/11/24 12:13  09/11/24 13:47   \n",
      "2  406-3863912-5131562  406-3863912-5131562-1  01/11/24 12:21  11/11/24 20:36   \n",
      "3           5076181331       S266159169.1-1-0  01/11/24 12:44  08/11/24 18:10   \n",
      "4           5076181331       S266159169.1-1-1  01/11/24 12:44  08/11/24 18:10   \n",
      "\n",
      "             sku return_courier  warehouse returntype shelf_code  \\\n",
      "0  8905723077969           SELF        NaN     return  R05-05-4H   \n",
      "1  8905723168452         ECOM_1        NaN     return  R05-09-3B   \n",
      "2  8905723129194          ATSIN        NaN     return  R06-05-1A   \n",
      "3  8905723296971           SELF        NaN     return  R05-05-4H   \n",
      "4  8905723297077           SELF        NaN     return  R05-05-4H   \n",
      "\n",
      "       return_status putaway_code putaway_status  \n",
      "0           COMPLETE       PT8478       COMPLETE  \n",
      "1           COMPLETE       PT8517       COMPLETE  \n",
      "2  COURIER_ALLOCATED          NaN            NaN  \n",
      "3           COMPLETE       PT8491       COMPLETE  \n",
      "4           COMPLETE       PT8491       COMPLETE  \n"
     ]
    }
   ],
   "source": [
    "print(pf.head())  # Check pf.csv contents\n",
    "print(oms.head()) # Check oms.csv contents\n"
   ]
  },
  {
   "cell_type": "code",
   "execution_count": 12,
   "id": "c9a9833d-5b1b-4cc7-a060-a12111b04ac1",
   "metadata": {},
   "outputs": [
    {
     "name": "stdout",
     "output_type": "stream",
     "text": [
      "   unnamed: 0_x            awbno     return status  return quantity  \\\n",
      "0             0    R972189457AJI  RETURN_PROCESSED                1   \n",
      "1             0    R972189457AJI  RETURN_PROCESSED                1   \n",
      "2             1  195042149034376  RETURN_PROCESSED                1   \n",
      "3             1  195042149034376  RETURN_PROCESSED                1   \n",
      "4             2  195042149034376  RETURN_PROCESSED                1   \n",
      "\n",
      "                           reason            sku   orderid_x          date_x  \\\n",
      "0               Does_Not_Fit_Well  8905723134259  S262541859  30/09/24 23:28   \n",
      "1               Does_Not_Fit_Well  8905723134259  S262541859  30/09/24 23:28   \n",
      "2  Not_Happy_With_Product_Quality  8905723297022  S262409205  30/09/24 21:59   \n",
      "3  Not_Happy_With_Product_Quality  8905723297022  S262409205  30/09/24 21:59   \n",
      "4  Not_Happy_With_Product_Quality  8905723143558  S262409205  30/09/24 21:59   \n",
      "\n",
      "    platform      sku_child  ...        suborder          date_y  \\\n",
      "0  Channel 1  8905723134259  ...  S262541859.1-1  01/10/24 01:10   \n",
      "1  Channel 1  8905723134259  ...  S262541859.1-1  01/10/24 01:10   \n",
      "2  Channel 1  8905723297022  ...  S262409205.1-1  01/10/24 01:10   \n",
      "3  Channel 1  8905723297022  ...  S262409205.1-1  01/10/24 01:10   \n",
      "4  Channel 1  8905723143558  ...  S262409205.2-1  01/10/24 01:10   \n",
      "\n",
      "    received_date return_courier warehouse returntype        shelf_code  \\\n",
      "0  01/10/24 01:10           SELF       NaN     return      BS-R10-05-3G   \n",
      "1  09/10/24 12:31           SELF       NaN     return       AC0103-04A5   \n",
      "2  01/10/24 01:10           SELF       NaN     return      BS-R12-08-2H   \n",
      "3  14/10/24 15:15           SELF       NaN     return  BR-ASS-R25-01-4A   \n",
      "4  01/10/24 01:10           SELF       NaN     return      BS-R18-10-3C   \n",
      "\n",
      "       return_status  putaway_code putaway_status  \n",
      "0  COURIER_ALLOCATED           NaN            NaN  \n",
      "1           COMPLETE        PT8662       COMPLETE  \n",
      "2  COURIER_ALLOCATED           NaN            NaN  \n",
      "3           COMPLETE        PT8675       COMPLETE  \n",
      "4  COURIER_ALLOCATED           NaN            NaN  \n",
      "\n",
      "[5 rows x 24 columns]\n"
     ]
    }
   ],
   "source": [
    "#verification\n",
    "merged_df = pf.merge(oms, on=[\"sku\", \"awbno\"], how=\"left\")\n",
    "print(merged_df.head())  \n"
   ]
  },
  {
   "cell_type": "code",
   "execution_count": null,
   "id": "a52ac7b9-56c4-49b4-822d-0ae76c06c70f",
   "metadata": {},
   "outputs": [],
   "source": []
  }
 ],
 "metadata": {
  "kernelspec": {
   "display_name": "Python [conda env:base] *",
   "language": "python",
   "name": "conda-base-py"
  },
  "language_info": {
   "codemirror_mode": {
    "name": "ipython",
    "version": 3
   },
   "file_extension": ".py",
   "mimetype": "text/x-python",
   "name": "python",
   "nbconvert_exporter": "python",
   "pygments_lexer": "ipython3",
   "version": "3.11.5"
  }
 },
 "nbformat": 4,
 "nbformat_minor": 5
}
